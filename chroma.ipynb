{
 "cells": [
  {
   "cell_type": "code",
   "execution_count": 1,
   "metadata": {},
   "outputs": [
    {
     "name": "stderr",
     "output_type": "stream",
     "text": [
      "c:\\Users\\Ирина\\AppData\\Local\\Programs\\Python\\Python310\\lib\\site-packages\\tqdm\\auto.py:21: TqdmWarning: IProgress not found. Please update jupyter and ipywidgets. See https://ipywidgets.readthedocs.io/en/stable/user_install.html\n",
      "  from .autonotebook import tqdm as notebook_tqdm\n"
     ]
    }
   ],
   "source": [
    "from sentence_transformers import SentenceTransformer\n",
    "import pandas as pd\n",
    "from chromadb.utils import embedding_functions\n",
    "from tqdm import tqdm\n",
    "import chromadb\n",
    "from chromadb.config import Settings\n",
    "device = 'cuda'\n",
    "model = SentenceTransformer(\"intfloat/multilingual-e5-small\")\n",
    "\n",
    "def make_passage(ans):\n",
    "    return f'passage: {ans}'\n",
    "\n",
    "def make_query(q):\n",
    "    return f'query: {q}'\n",
    "\n",
    "def make_db(df_path, db_name):\n",
    "    df = pd.read_excel(df_path)\n",
    "\n",
    "    documents = []\n",
    "    embeddings = []\n",
    "    metadatas = []\n",
    "    ids = []\n",
    "\n",
    "    for index, row in tqdm(df.iterrows(), total=len(df)):\n",
    "        documents.append(row['Answer'])\n",
    "        embedding = model.encode(sentences=make_passage(row['Answer']), batch_size=1, device = device).tolist()\n",
    "        embeddings.append(embedding)\n",
    "        metadatas.append({'source': row['Theme']})\n",
    "        ids.append(str(index + 1))\n",
    "\n",
    "    client = chromadb.Client(Settings(persist_directory='db/'))\n",
    "    invest_qa_emb = client.create_collection(name=db_name, metadata={'hnsw:space': 'cosine'})\n",
    "\n",
    "    invest_qa_emb.add(\n",
    "        documents=documents,\n",
    "        embeddings=embeddings,\n",
    "        metadatas=metadatas,\n",
    "        ids=ids\n",
    "    )"
   ]
  },
  {
   "cell_type": "code",
   "execution_count": 2,
   "metadata": {},
   "outputs": [
    {
     "name": "stderr",
     "output_type": "stream",
     "text": [
      "100%|██████████| 1412/1412 [00:16<00:00, 87.48it/s]\n"
     ]
    }
   ],
   "source": [
    "df_path = 'data\\data.xlsx'\n",
    "db_name = \"invest_qa_emb\"\n",
    "make_db(df_path=df_path, db_name=db_name)"
   ]
  },
  {
   "cell_type": "code",
   "execution_count": 2,
   "metadata": {},
   "outputs": [],
   "source": [
    "from sentence_transformers import SentenceTransformer\n",
    "import pandas as pd\n",
    "from chromadb.utils import embedding_functions\n",
    "from tqdm import tqdm\n",
    "import chromadb\n",
    "from chromadb.config import Settings\n",
    "\n",
    "client = chromadb.Client()\n",
    "# invest_qa_emb = client.create_collection(name=db_name, metadata={'hnsw:space': 'cosine'})\n",
    "collection = client.create_collection(name=\"my_collection\", embedding_function=embedding_functions.SentenceTransformerEmbeddingFunction(model_name=\"intfloat/multilingual-e5-small\"), metadata={'hnsw:space': 'cosine'})\n"
   ]
  },
  {
   "cell_type": "code",
   "execution_count": 4,
   "metadata": {},
   "outputs": [
    {
     "data": {
      "text/plain": [
       "'c:\\\\Users\\\\Ирина\\\\Desktop\\\\RAG\\\\develop'"
      ]
     },
     "execution_count": 4,
     "metadata": {},
     "output_type": "execute_result"
    }
   ],
   "source": []
  },
  {
   "cell_type": "code",
   "execution_count": 3,
   "metadata": {},
   "outputs": [],
   "source": [
    "from sentence_transformers import SentenceTransformer\n",
    "import pandas as pd\n",
    "from chromadb.utils import embedding_functions\n",
    "from tqdm import tqdm\n",
    "import chromadb\n",
    "from chromadb.config import Settings\n",
    "\n",
    "client = chromadb.Client()\n",
    "# invest_qa_emb = client.create_collection(name=db_name, metadata={'hnsw:space': 'cosine'})\n",
    "collection = client.create_collection(name=\"my_collection\", embedding_function=embedding_functions.SentenceTransformerEmbeddingFunction(model_name=\"intfloat/multilingual-e5-small\"), metadata={'hnsw:space': 'cosine'})\n",
    "\n",
    "df = pd.read_excel('data/data.xlsx')\n",
    "collection.add(\n",
    "    documents=df.Answer.to_list(),\n",
    "    metadatas=[{'question': q} for q in df.Theme.to_list()],\n",
    "    ids=[str(i) for i in range(len(df))]\n",
    ")\n",
    "\n",
    "embeddddd = SentenceTransformer(\"intfloat/multilingual-e5-small\")\n",
    "query = \"Что делать Если пришел маржин-колл\"\n",
    "input_em = embeddddd.encode(sentences=f\"query: {query}\", batch_size=1, device = 'cuda').tolist()\n",
    "\n",
    "results = collection.query(\n",
    "    query_embeddings=[input_em],\n",
    "    n_results=5\n",
    ")"
   ]
  },
  {
   "cell_type": "code",
   "execution_count": 5,
   "metadata": {},
   "outputs": [],
   "source": [
    "embeddddd = SentenceTransformer(\"intfloat/multilingual-e5-small\")\n",
    "query = \"Что делать Если пришел маржин-колл\"\n",
    "input_em = embeddddd.encode(sentences=f\"query: {query}\", batch_size=1, device = 'cuda').tolist()\n",
    "\n",
    "results = collection.query(\n",
    "    query_embeddings=[input_em],\n",
    "    n_results=5\n",
    ")"
   ]
  }
 ],
 "metadata": {
  "kernelspec": {
   "display_name": "Python 3",
   "language": "python",
   "name": "python3"
  },
  "language_info": {
   "codemirror_mode": {
    "name": "ipython",
    "version": 3
   },
   "file_extension": ".py",
   "mimetype": "text/x-python",
   "name": "python",
   "nbconvert_exporter": "python",
   "pygments_lexer": "ipython3",
   "version": "3.10.8"
  }
 },
 "nbformat": 4,
 "nbformat_minor": 2
}
